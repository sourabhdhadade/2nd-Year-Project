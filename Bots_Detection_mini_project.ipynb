{
  "nbformat": 4,
  "nbformat_minor": 0,
  "metadata": {
    "colab": {
      "provenance": []
    },
    "kernelspec": {
      "name": "python3",
      "display_name": "Python 3"
    },
    "language_info": {
      "name": "python"
    }
  },
  "cells": [
    {
      "cell_type": "code",
      "execution_count": null,
      "metadata": {
        "id": "h3X_OxuDFGW9"
      },
      "outputs": [],
      "source": [
        "!pip install selenium==4.10.0 textblob joblib python-dotenv webdriver-manager scikit-learn pandas\n",
        "!apt-get update\n",
        "!apt install chromium-chromedriver\n",
        "!cp /usr/lib/chromium-browser/chromedriver /usr/bin"
      ]
    },
    {
      "cell_type": "code",
      "source": [
        "from selenium import webdriver\n",
        "\n",
        "chrome_options = webdriver.ChromeOptions()\n",
        "chrome_options.add_argument(\"--headless\")\n",
        "chrome_options.add_argument(\"--no-sandbox\")\n",
        "chrome_options.add_argument(\"--disable-dev-shm-usage\")\n",
        "chrome_options.add_argument(\"--disable-blink-features=AutomationControlled\")\n",
        "chrome_options.add_argument(\"--window-size=1920,1080\")\n",
        "\n",
        "# Use this when initializing the driver:\n",
        "# driver = webdriver.Chrome(options=chrome_options)"
      ],
      "metadata": {
        "id": "hsTEPLplFKOw"
      },
      "execution_count": null,
      "outputs": []
    },
    {
      "cell_type": "code",
      "source": [
        "USERNAME = \"your_x_username\"\n",
        "PASSWORD = \"your_password\"\n",
        "EMAIL = \"your_email@example.com\""
      ],
      "metadata": {
        "id": "5GftuQsrFMWS"
      },
      "execution_count": null,
      "outputs": []
    },
    {
      "cell_type": "code",
      "source": [
        "username = input(\"Enter X.com username (without @): \")"
      ],
      "metadata": {
        "id": "7yQTYXi1FOpF"
      },
      "execution_count": null,
      "outputs": []
    },
    {
      "cell_type": "code",
      "source": [
        "# Uninstall preinstalled chromium\n",
        "!apt remove chromium-browser -y\n",
        "\n",
        "# Install Chromium version 114\n",
        "!wget https://storage.googleapis.com/chrome-for-testing-public/114.0.5735.90/linux64/chrome-linux64.zip\n",
        "!unzip chrome-linux64.zip\n",
        "!mv chrome-linux64 /opt/chrome\n",
        "\n",
        "# Install matching Chromedriver\n",
        "!wget https://storage.googleapis.com/chrome-for-testing-public/114.0.5735.90/linux64/chromedriver-linux64.zip\n",
        "!unzip chromedriver-linux64.zip\n",
        "!mv chromedriver-linux64/chromedriver /opt/chrome/chromedriver\n",
        "!chmod +x /opt/chrome/chromedriver\n"
      ],
      "metadata": {
        "id": "yXq14T47HkHp"
      },
      "execution_count": null,
      "outputs": []
    },
    {
      "cell_type": "code",
      "source": [
        "from selenium import webdriver\n",
        "from selenium.webdriver.chrome.service import Service\n",
        "\n",
        "chrome_options = webdriver.ChromeOptions()\n",
        "chrome_options.binary_location = \"/opt/chrome/chrome\"\n",
        "chrome_options.add_argument(\"--headless\")\n",
        "chrome_options.add_argument(\"--no-sandbox\")\n",
        "chrome_options.add_argument(\"--disable-dev-shm-usage\")\n",
        "chrome_options.add_argument(\"--disable-blink-features=AutomationControlled\")\n",
        "chrome_options.add_argument(\"--window-size=1920x1080\")\n",
        "\n",
        "driver = webdriver.Chrome(service=Service(\"/opt/chrome/chromedriver\"), options=chrome_options)\n"
      ],
      "metadata": {
        "id": "L19d2qRIHr01"
      },
      "execution_count": null,
      "outputs": []
    },
    {
      "cell_type": "code",
      "source": [
        "import pandas as pd\n",
        "import numpy as np\n",
        "import joblib\n",
        "from textblob import TextBlob\n",
        "import re\n",
        "import time\n",
        "import requests\n",
        "from selenium.webdriver.common.by import By\n",
        "from selenium.webdriver.support.ui import WebDriverWait\n",
        "from selenium.webdriver.support import expected_conditions as EC\n",
        "from selenium import webdriver\n",
        "from selenium.webdriver.chrome.service import Service\n",
        "from sklearn.ensemble import RandomForestClassifier\n",
        "from sklearn.linear_model import LogisticRegression\n",
        "from sklearn.model_selection import train_test_split\n",
        "\n",
        "# Credentials (replace or use getpass as shown above)\n",
        "USERNAME = \"your_username\"\n",
        "PASSWORD = \"your_password\"\n",
        "EMAIL = \"your_email\"\n",
        "\n",
        "# Utility functions\n",
        "def extract_int(text):\n",
        "    text = text.replace(\",\", \"\").lower()\n",
        "    match = re.search(r'(\\d+\\.?\\d*)([km]?)', text)\n",
        "    if match:\n",
        "        number = float(match.group(1))\n",
        "        return int(number * 1_000) if match.group(2) == 'k' else int(number * 1_000_000) if match.group(2) == 'm' else int(number)\n",
        "    return 0\n",
        "\n",
        "def get_sentiment(text):\n",
        "    return int(np.sign(TextBlob(text).sentiment.polarity)) if text else 0\n",
        "\n",
        "# Model training (do this once)\n",
        "def train_and_save_models():\n",
        "    df1 = pd.read_csv(\"/content/data file.csv\").fillna(0)\n",
        "    X1 = df1[[\"is_verified\", \"following_count\", \"followers_count\", \"is_default_profile_image\"]]\n",
        "    y1 = df1[\"is_spam_account\"]\n",
        "    rf_model = RandomForestClassifier(class_weight='balanced', random_state=0)\n",
        "    rf_model.fit(X1, y1)\n",
        "    joblib.dump(rf_model, \"model_rf.pkl\")\n",
        "\n",
        "    df2 = pd.read_csv(\"dataspam.csv\").fillna(0)\n",
        "    X2 = df2[[\"identical_tweet_freq\"]]\n",
        "    y2 = df2[\"is_spam_account\"]\n",
        "    log_model = LogisticRegression()\n",
        "    log_model.fit(X2, y2)\n",
        "    joblib.dump(log_model, \"model_logistic.pkl\")\n",
        "\n",
        "# Run this only once:\n",
        "train_and_save_models()\n",
        "\n",
        "# Load pre-trained models\n",
        "model_rf = joblib.load(\"model_rf.pkl\")\n",
        "model_log = joblib.load(\"model_logistic.pkl\")\n",
        "\n",
        "# Define X1 and y1 globally for metrics calculation\n",
        "df1 = pd.read_csv(\"/content/data file.csv\").fillna(0)\n",
        "X1 = df1[[\"is_verified\", \"following_count\", \"followers_count\", \"is_default_profile_image\"]]\n",
        "y1 = df1[\"is_spam_account\"]\n",
        "\n",
        "\n",
        "def login_to_x(driver):\n",
        "    driver.get(\"https://x.com/login\")\n",
        "    WebDriverWait(driver, 15).until(EC.presence_of_element_located((By.NAME, \"text\"))).send_keys(USERNAME)\n",
        "    driver.find_element(By.XPATH, \"//span[contains(text(),'Next')]\").click()\n",
        "    time.sleep(2)\n",
        "    try:\n",
        "        WebDriverWait(driver, 5).until(EC.presence_of_element_located((By.NAME, \"text\"))).send_keys(EMAIL)\n",
        "        driver.find_element(By.XPATH, \"//span[contains(text(),'Next')]\").click()\n",
        "    except: pass\n",
        "    WebDriverWait(driver, 10).until(EC.presence_of_element_located((By.NAME, \"password\"))).send_keys(PASSWORD)\n",
        "    driver.find_element(By.XPATH, \"//span[contains(text(),'Log in')]\").click()\n",
        "    time.sleep(5)\n",
        "\n",
        "def get_user_features(username):\n",
        "    driver = webdriver.Chrome(options=chrome_options)\n",
        "    try:\n",
        "        login_to_x(driver)\n",
        "        driver.get(f\"https://x.com/{username}\")\n",
        "        time.sleep(6)\n",
        "\n",
        "        is_verified = int(bool(driver.find_elements(By.CSS_SELECTOR, \"svg[data-testid='icon-verified']\")))\n",
        "        try:\n",
        "            bio = driver.find_element(By.CSS_SELECTOR, \"div[data-testid='UserDescription']\").text\n",
        "        except: bio = \"\"\n",
        "        profile_sentiment = get_sentiment(bio)\n",
        "\n",
        "        following = followers = 0\n",
        "        for stat in driver.find_elements(By.XPATH, \"//a[contains(@href, '/followers') or contains(@href, '/following')]\"):\n",
        "            if \"Following\" in stat.text:\n",
        "                following = extract_int(stat.text)\n",
        "            elif \"Followers\" in stat.text:\n",
        "                followers = extract_int(stat.text)\n",
        "\n",
        "        tweets = [t.text for t in driver.find_elements(By.CSS_SELECTOR, \"div[data-testid='tweetText']\")]\n",
        "        identical_freq = round((len(tweets) - len(set(tweets))) / len(tweets), 2) if tweets else 0\n",
        "\n",
        "        try:\n",
        "            img_url = driver.find_element(By.CSS_SELECTOR, \"img[alt*='Image']\").get_attribute(\"src\")\n",
        "            is_default_img = int(\"default_profile\" in img_url)\n",
        "        except:\n",
        "            is_default_img = 1\n",
        "\n",
        "        return [is_verified, profile_sentiment, following, followers, is_default_img, identical_freq]\n",
        "    except Exception as e:\n",
        "        print(\"Scraping error:\", e)\n",
        "        return None\n",
        "    finally:\n",
        "        driver.quit()\n",
        "\n",
        "def predict_bot(features, username):\n",
        "    main_features = [features[i] for i in [0, 2, 3, 4]]\n",
        "    if model_rf.predict([main_features])[0] == 1:\n",
        "        if model_log.predict([[features[5]]])[0] == 1:\n",
        "            return f\"'{username}' is a Spam Bot!\"\n",
        "        else:\n",
        "            return f\"'{username}' is a Non-Spam Bot.\"\n",
        "    return f\"'{username}' seems like a Human User.\"\n",
        "\n",
        "# Run the detection\n",
        "username = input(\"Enter X.com username (without @): \")\n",
        "features = get_user_features(username)\n",
        "if features:\n",
        "    result = predict_bot(features, username)\n",
        "    print(\"Result:\", result)\n",
        "else:\n",
        "    print(\"Failed to fetch or process user data.\")"
      ],
      "metadata": {
        "id": "vnk3uhN5FZPI"
      },
      "execution_count": null,
      "outputs": []
    },
    {
      "cell_type": "code",
      "metadata": {
        "id": "4d12ddc4",
        "colab": {
          "base_uri": "https://localhost:8080/"
        },
        "outputId": "bc8a1b2c-a31e-41c3-f172-2e85509d3208"
      },
      "source": [
        "from sklearn.metrics import confusion_matrix\n",
        "\n",
        "y_true = y1\n",
        "y_pred = model_rf.predict(X1)\n",
        "\n",
        "cm = confusion_matrix(y_true, y_pred)\n",
        "print(\"Confusion Matrix:\")\n",
        "print(cm)"
      ],
      "execution_count": 13,
      "outputs": [
        {
          "output_type": "stream",
          "name": "stdout",
          "text": [
            "Confusion Matrix:\n",
            "[[58  0]\n",
            " [ 0 42]]\n"
          ]
        }
      ]
    },
    {
      "cell_type": "code",
      "metadata": {
        "id": "6346ec43",
        "colab": {
          "base_uri": "https://localhost:8080/",
          "height": 564
        },
        "outputId": "8f84c27d-f6e1-4f84-e2f3-9ed84927569c"
      },
      "source": [
        "import matplotlib.pyplot as plt\n",
        "import seaborn as sns\n",
        "\n",
        "plt.figure(figsize=(8, 6))\n",
        "sns.heatmap(cm, annot=True, fmt='d', cmap='Blues')\n",
        "plt.xlabel('Predicted')\n",
        "plt.ylabel('Actual')\n",
        "plt.title('Confusion Matrix')\n",
        "plt.show()"
      ],
      "execution_count": 14,
      "outputs": [
        {
          "output_type": "display_data",
          "data": {
            "text/plain": [
              "<Figure size 800x600 with 2 Axes>"
            ],
            "image/png": "[encoded data removed]"
          },
          "metadata": {}
        }
      ]
    },
    {
      "cell_type": "code",
      "metadata": {
        "id": "16b77f31",
        "colab": {
          "base_uri": "https://localhost:8080/"
        },
        "outputId": "0745c143-564b-44f0-d08f-48e103049956"
      },
      "source": [
        "from sklearn.metrics import accuracy_score, precision_score, recall_score, f1_score\n",
        "\n",
        "accuracy = accuracy_score(y_true, y_pred)\n",
        "precision = precision_score(y_true, y_pred)\n",
        "recall = recall_score(y_true, y_pred)\n",
        "f1 = f1_score(y_true, y_pred)\n",
        "\n",
        "print(f\"Accuracy: {accuracy:.4f}\")\n",
        "print(f\"Precision: {precision:.4f}\")\n",
        "print(f\"Recall: {recall:.4f}\")\n",
        "print(f\"F1-Score: {f1:.4f}\")"
      ],
      "execution_count": 15,
      "outputs": [
        {
          "output_type": "stream",
          "name": "stdout",
          "text": [
            "Accuracy: 1.0000\n",
            "Precision: 1.0000\n",
            "Recall: 1.0000\n",
            "F1-Score: 1.0000\n"
          ]
        }
      ]
    },
    {
      "cell_type": "code",
      "metadata": {
        "id": "0cdd8bf2",
        "colab": {
          "base_uri": "https://localhost:8080/",
          "height": 545
        },
        "outputId": "f1f079ee-d94b-4a29-886f-3b2a26dfc86d"
      },
      "source": [
        "import matplotlib.pyplot as plt\n",
        "import numpy as np\n",
        "\n",
        "metrics_names = ['Accuracy', 'Precision', 'Recall', 'F1-Score']\n",
        "metrics_values = [accuracy, precision, recall, f1]\n",
        "\n",
        "plt.figure(figsize=(8, 6))\n",
        "plt.bar(metrics_names, metrics_values, color=['blue', 'green', 'red', 'purple'])\n",
        "plt.ylim(0, 1.1) # Set y-axis limit slightly above 1 for better visualization\n",
        "plt.ylabel('Score')\n",
        "plt.title('Classification Metrics')\n",
        "plt.show()"
      ],
      "execution_count": 16,
      "outputs": [
        {
          "output_type": "display_data",
          "data": {
            "text/plain": [
              "<Figure size 800x600 with 1 Axes>"
            ],
            "image/png": "[encoded data removed]"
          },
          "metadata": {}
        }
      ]
    }
  ]
}